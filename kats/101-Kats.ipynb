{
 "cells": [
  {
   "cell_type": "code",
   "execution_count": null,
   "id": "7014b33d",
   "metadata": {},
   "outputs": [],
   "source": [
    "!wget https://raw.githubusercontent.com/facebookresearch/Kats/main/kats/data/air_passengers.csv\n",
    "!wget https://raw.githubusercontent.com/facebookresearch/Kats/main/kats/data/multi_ts.csv"
   ]
  },
  {
   "cell_type": "code",
   "execution_count": null,
   "id": "ab7d2c77",
   "metadata": {},
   "outputs": [],
   "source": [
    "import numpy as np\n",
    "import pandas as pd\n",
    "from datetime import datetime, timedelta\n",
    "import matplotlib.pyplot as plt\n",
    "import sys\n",
    "sys.path.append(\"../\")\n",
    "\n",
    "import warnings\n",
    "warnings.filterwarnings('ignore')\n",
    "\n",
    "from kats.consts import TimeSeriesData"
   ]
  },
  {
   "cell_type": "code",
   "execution_count": null,
   "id": "ecbca818",
   "metadata": {},
   "outputs": [],
   "source": [
    "try: # If running on Jupyter\n",
    "    air_passengers_df = pd.read_csv(\"../kats/data/air_passengers.csv\")\n",
    "except FileNotFoundError: # If running on colab\n",
    "    air_passengers_df = pd.read_csv(\"air_passengers.csv\")\n",
    "\n",
    "\"\"\"\n",
    "Note: If the column holding the time values is not called \"time\", you will want to specify \n",
    "the name of this column using the time_col_name parameter in the TimeSeriesData constructor.\n",
    "\"\"\"\n",
    "air_passengers_df.columns = [\"time\", \"value\"]\n",
    "air_passengers_df.head()"
   ]
  },
  {
   "cell_type": "code",
   "execution_count": null,
   "id": "926e8661",
   "metadata": {},
   "outputs": [],
   "source": [
    "multi_ts_df = pd.read_csv(\"datasets/wit-10hz.csv\", sep='\\t')\n",
    "multi_ts_df.columns = [\"time\", \"acx\", \"acy\", \"acz\", \"gyx\", \"gyy\", \"gyz\", \"roll\", \"pitch\", \"yaw\"]\n",
    "multi_ts_df.head()"
   ]
  },
  {
   "cell_type": "code",
   "execution_count": null,
   "id": "f6b8f678",
   "metadata": {},
   "outputs": [],
   "source": [
    "# air_passengers_ts = TimeSeriesData(air_passengers_df)\n",
    "multi_ts = TimeSeriesData(multi_ts_df)"
   ]
  },
  {
   "cell_type": "code",
   "execution_count": null,
   "id": "7197cf8e",
   "metadata": {},
   "outputs": [],
   "source": [
    "# check that the type of the data is a \"TimeSeriesData\" object for both cases\n",
    "# print(type(air_passengers_ts))\n",
    "print(type(multi_ts))"
   ]
  },
  {
   "cell_type": "code",
   "execution_count": null,
   "id": "172bc95a",
   "metadata": {},
   "outputs": [],
   "source": [
    "# For the air_passengers TimeSeriesData, check that both time and value are pd.Series\n",
    "print(type(air_passengers_ts.time))\n",
    "print(type(air_passengers_ts.value))"
   ]
  },
  {
   "cell_type": "code",
   "execution_count": null,
   "id": "e1c2927c",
   "metadata": {},
   "outputs": [],
   "source": [
    "# For the multi_ts TimeSeriesData, time is a pd.Series and value is a pd.DataFrame\n",
    "print(type(multi_ts.time))\n",
    "print(type(multi_ts.acx))"
   ]
  },
  {
   "cell_type": "code",
   "execution_count": null,
   "id": "46539340",
   "metadata": {},
   "outputs": [],
   "source": [
    "# air_passengers_ts_from_series = TimeSeriesData(time=air_passengers_df.time, value=air_passengers_df.value)\n",
    "multi_ts_from_series = TimeSeriesData(time=multi_ts_df.time, value=multi_ts_df[['acx','acy','acz','gyx','gyy','gyz','roll','pitch','yaw']])"
   ]
  },
  {
   "cell_type": "code",
   "execution_count": null,
   "id": "dd0e882f",
   "metadata": {},
   "outputs": [],
   "source": [
    "from dateutil import parser\n",
    "from datetime import datetime\n",
    "\n",
    "# Convert time from air_passengers data to unix time\n",
    "air_passengers_ts_unixtime = air_passengers_df.time.apply(\n",
    "    lambda x: datetime.timestamp(parser.parse(x))\n",
    ")\n",
    "\n",
    "air_passengers_ts_unixtime"
   ]
  },
  {
   "cell_type": "code",
   "execution_count": null,
   "id": "9966bd75",
   "metadata": {},
   "outputs": [],
   "source": [
    "# Create the TimeSeriesData object with the extra arguments to accomodate unix time \n",
    "ts_from_unixtime = TimeSeriesData(\n",
    "        time=air_passengers_ts_unixtime, \n",
    "        value=air_passengers_df.value, \n",
    "        use_unix_time=True, \n",
    "        unix_time_units=\"s\"\n",
    ")\n",
    "\n",
    "ts_from_unixtime"
   ]
  },
  {
   "cell_type": "code",
   "execution_count": null,
   "id": "e43c724d",
   "metadata": {},
   "outputs": [],
   "source": [
    "air_passengers_ts[1:5]"
   ]
  },
  {
   "cell_type": "code",
   "execution_count": null,
   "id": "84f73f60",
   "metadata": {},
   "outputs": [],
   "source": [
    "air_passengers_ts[1:5] + air_passengers_ts[1:5]"
   ]
  },
  {
   "cell_type": "code",
   "execution_count": null,
   "id": "7cc298d0",
   "metadata": {},
   "outputs": [],
   "source": [
    "# Equality and Inequality are also supported:\n",
    "\n",
    "air_passengers_ts == air_passengers_ts_from_series"
   ]
  },
  {
   "cell_type": "code",
   "execution_count": null,
   "id": "125ce8f8",
   "metadata": {},
   "outputs": [],
   "source": [
    "multi_ts == multi_ts_from_series"
   ]
  },
  {
   "cell_type": "code",
   "execution_count": null,
   "id": "91495b49",
   "metadata": {},
   "outputs": [],
   "source": [
    "# length\n",
    "\n",
    "len(air_passengers_ts)"
   ]
  },
  {
   "cell_type": "code",
   "execution_count": null,
   "id": "ac7e4ab0",
   "metadata": {},
   "outputs": [],
   "source": [
    "# Creating two slices\n",
    "ts_1 = air_passengers_ts[0:3]\n",
    "ts_2 = air_passengers_ts[3:7]\n",
    "\n",
    "ts_1.extend(ts_2)\n",
    "ts_1"
   ]
  },
  {
   "cell_type": "code",
   "execution_count": null,
   "id": "ca03bc25",
   "metadata": {},
   "outputs": [],
   "source": [
    "%matplotlib inline\n",
    "\n",
    "# Must pass the name of the value columns to plot\n",
    "air_passengers_ts.plot(cols=['value'])\n",
    "plt.show()"
   ]
  },
  {
   "cell_type": "code",
   "execution_count": null,
   "id": "e3c64a29",
   "metadata": {},
   "outputs": [],
   "source": [
    "# We can plot multiple time series from multi_ts by passing in the name of each value column we want to plot\n",
    "multi_ts.plot(cols=['acz'])\n",
    "plt.show()"
   ]
  },
  {
   "cell_type": "code",
   "execution_count": null,
   "id": "e44ad1fb",
   "metadata": {},
   "outputs": [],
   "source": [
    "# Initiate feature extraction class\n",
    "from kats.tsfeatures.tsfeatures import TsFeatures\n",
    "tsFeatures = TsFeatures()"
   ]
  },
  {
   "cell_type": "code",
   "execution_count": null,
   "id": "aa2ddac2",
   "metadata": {},
   "outputs": [],
   "source": [
    "# features_air_passengers = TsFeatures().transform(air_passengers_ts)\n",
    "features_ts = TsFeatures().transform(multi_ts)"
   ]
  },
  {
   "cell_type": "code",
   "execution_count": null,
   "id": "5bef8afd",
   "metadata": {},
   "outputs": [],
   "source": [
    "# features_air_passengers\n",
    "# features_air_passengers\n",
    "features_ts"
   ]
  },
  {
   "cell_type": "code",
   "execution_count": null,
   "id": "463aa8aa",
   "metadata": {},
   "outputs": [],
   "source": [
    "import os\n",
    "from cmdstanpy import cmdstan_path, CmdStanModel\n",
    "\n",
    "# specify locations of Stan program file and data\n",
    "stan_file = os.path.join(cmdstan_path(), 'examples', 'bernoulli', 'bernoulli.stan')\n",
    "data_file = os.path.join(cmdstan_path(), 'examples', 'bernoulli', 'bernoulli.data.json')\n",
    "\n",
    "# instantiate a model; compiles the Stan program by default\n",
    "model = CmdStanModel(stan_file=stan_file)\n",
    "\n",
    "# obtain a posterior sample from the model conditioned on the data\n",
    "fit = model.sample(chains=4, data=data_file)\n",
    "\n",
    "# summarize the results (wraps CmdStan `bin/stansummary`):\n",
    "fit.summary()"
   ]
  },
  {
   "cell_type": "code",
   "execution_count": null,
   "id": "6513c639",
   "metadata": {},
   "outputs": [],
   "source": []
  }
 ],
 "metadata": {
  "kernelspec": {
   "display_name": "Python 3 (ipykernel)",
   "language": "python",
   "name": "python3"
  },
  "language_info": {
   "codemirror_mode": {
    "name": "ipython",
    "version": 3
   },
   "file_extension": ".py",
   "mimetype": "text/x-python",
   "name": "python",
   "nbconvert_exporter": "python",
   "pygments_lexer": "ipython3",
   "version": "3.9.7"
  }
 },
 "nbformat": 4,
 "nbformat_minor": 5
}

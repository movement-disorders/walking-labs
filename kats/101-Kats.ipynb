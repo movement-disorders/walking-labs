{
 "cells": [
  {
   "cell_type": "code",
   "execution_count": null,
   "id": "ab7d2c77",
   "metadata": {},
   "outputs": [],
   "source": [
    "import numpy as np\n",
    "import pandas as pd\n",
    "from datetime import datetime, timedelta\n",
    "import matplotlib.pyplot as plt\n",
    "import sys\n",
    "sys.path.append(\"../\")\n",
    "\n",
    "import warnings\n",
    "warnings.filterwarnings('ignore')\n",
    "\n",
    "from kats.consts import TimeSeriesData"
   ]
  },
  {
   "cell_type": "code",
   "execution_count": null,
   "id": "926e8661",
   "metadata": {},
   "outputs": [],
   "source": [
    "multi_ts_df = pd.read_csv(\"../datasets/wit-10hz.csv\", sep='\\t')\n",
    "multi_ts_df.columns = [\"time\", \"acx\", \"acy\", \"acz\",\"gyx\", \"gyy\", \"gyz\", \"roll\", \"pitch\", \"yaw\"]\n",
    "multi_ts_df.drop([\"gyx\", \"gyy\", \"gyz\", \"roll\", \"pitch\", \"yaw\"], axis=1, inplace=True)\n",
    "multi_ts_df.head()"
   ]
  },
  {
   "cell_type": "code",
   "execution_count": null,
   "id": "3496f8bd",
   "metadata": {},
   "outputs": [],
   "source": [
    "multi_ts_df['timedf'] = pd.to_datetime(multi_ts_df['time'])\n",
    "multi_ts_df.info()\n",
    "multi_ts_df.drop('time', axis=1, inplace=True)\n",
    "multi_ts_df.columns = [\"acx\", \"acy\", \"acz\", \"time\"]\n",
    "multi_ts_df.head()"
   ]
  },
  {
   "cell_type": "markdown",
   "id": "876ddefd",
   "metadata": {},
   "source": [
    "## Optional filtering"
   ]
  },
  {
   "cell_type": "code",
   "execution_count": null,
   "id": "a03dc4d4",
   "metadata": {},
   "outputs": [],
   "source": [
    "multi_ts_df = multi_ts_df[(multi_ts_df['time'] > '2021-05-30 11:10') & (multi_ts_df['time'] < '2021-05-30 11:12')]\n",
    "multi_ts_df = multi_ts_df[(multi_ts_df[[\"acx\", \"acy\", \"acz\"]] > 0).all(1)]"
   ]
  },
  {
   "cell_type": "code",
   "execution_count": null,
   "id": "f6b8f678",
   "metadata": {},
   "outputs": [],
   "source": [
    "multi_ts = TimeSeriesData(multi_ts_df)"
   ]
  },
  {
   "cell_type": "code",
   "execution_count": null,
   "id": "7197cf8e",
   "metadata": {},
   "outputs": [],
   "source": [
    "# check that the type of the data is a \"TimeSeriesData\" object for both cases\n",
    "print(type(multi_ts))"
   ]
  },
  {
   "cell_type": "code",
   "execution_count": null,
   "id": "e1c2927c",
   "metadata": {},
   "outputs": [],
   "source": [
    "# For the multi_ts TimeSeriesData, time is a pd.Series and value is a pd.DataFrame\n",
    "print(type(multi_ts.time))\n",
    "print(type(multi_ts.value))"
   ]
  },
  {
   "cell_type": "code",
   "execution_count": null,
   "id": "46539340",
   "metadata": {},
   "outputs": [],
   "source": [
    "multi_ts_from_series = TimeSeriesData(time=multi_ts_df.time, value=multi_ts_df[['acx','acy','acz']])"
   ]
  },
  {
   "cell_type": "code",
   "execution_count": null,
   "id": "125ce8f8",
   "metadata": {},
   "outputs": [],
   "source": [
    "multi_ts == multi_ts_from_series"
   ]
  },
  {
   "cell_type": "code",
   "execution_count": null,
   "id": "e3c64a29",
   "metadata": {},
   "outputs": [],
   "source": [
    "# We can plot multiple time series from multi_ts by passing in the name of each value column we want to plot\n",
    "multi_ts.plot(cols=['acx','acy','acz'])\n",
    "plt.show()"
   ]
  },
  {
   "cell_type": "code",
   "execution_count": null,
   "id": "e44ad1fb",
   "metadata": {},
   "outputs": [],
   "source": [
    "# Initiate feature extraction class\n",
    "from kats.tsfeatures.tsfeatures import TsFeatures\n",
    "tsFeatures = TsFeatures()"
   ]
  },
  {
   "cell_type": "code",
   "execution_count": null,
   "id": "aa2ddac2",
   "metadata": {},
   "outputs": [],
   "source": [
    "features_ts = TsFeatures().transform(multi_ts)"
   ]
  },
  {
   "cell_type": "code",
   "execution_count": null,
   "id": "5bef8afd",
   "metadata": {},
   "outputs": [],
   "source": [
    "features_ts"
   ]
  },
  {
   "cell_type": "markdown",
   "id": "71c5dd8e",
   "metadata": {},
   "source": [
    "## cmdstanpy sample"
   ]
  },
  {
   "cell_type": "code",
   "execution_count": null,
   "id": "463aa8aa",
   "metadata": {},
   "outputs": [],
   "source": [
    "import os\n",
    "from cmdstanpy import cmdstan_path, CmdStanModel\n",
    "\n",
    "# specify locations of Stan program file and data\n",
    "stan_file = os.path.join(cmdstan_path(), 'examples', 'bernoulli', 'bernoulli.stan')\n",
    "data_file = os.path.join(cmdstan_path(), 'examples', 'bernoulli', 'bernoulli.data.json')\n",
    "\n",
    "# instantiate a model; compiles the Stan program by default\n",
    "model = CmdStanModel(stan_file=stan_file)\n",
    "\n",
    "# obtain a posterior sample from the model conditioned on the data\n",
    "fit = model.sample(chains=4, data=data_file)\n",
    "\n",
    "# summarize the results (wraps CmdStan `bin/stansummary`):\n",
    "fit.summary()"
   ]
  },
  {
   "cell_type": "code",
   "execution_count": null,
   "id": "6513c639",
   "metadata": {},
   "outputs": [],
   "source": []
  }
 ],
 "metadata": {
  "interpreter": {
   "hash": "d4d1e4263499bec80672ea0156c357c1ee493ec2b1c70f0acce89fc37c4a6abe"
  },
  "kernelspec": {
   "display_name": "Python 3.9.7 ('base')",
   "language": "python",
   "name": "python3"
  },
  "language_info": {
   "codemirror_mode": {
    "name": "ipython",
    "version": 3
   },
   "file_extension": ".py",
   "mimetype": "text/x-python",
   "name": "python",
   "nbconvert_exporter": "python",
   "pygments_lexer": "ipython3",
   "version": "3.9.7"
  }
 },
 "nbformat": 4,
 "nbformat_minor": 5
}

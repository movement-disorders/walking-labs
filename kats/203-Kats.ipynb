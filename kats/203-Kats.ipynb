{
 "cells": [
  {
   "cell_type": "code",
   "execution_count": null,
   "id": "47ee65d8",
   "metadata": {},
   "outputs": [],
   "source": [
    "import sys\n",
    "sys.path.append(\"../\")\n",
    "\n",
    "import numpy as np\n",
    "import pandas as pd\n",
    "import pprint\n",
    "import matplotlib.pyplot as plt\n",
    "from sklearn.decomposition import PCA\n",
    "from kats.consts import TimeSeriesData\n",
    "from statsmodels.tsa.seasonal import STL\n",
    "from kats.utils.simulator import Simulator\n",
    "from sklearn.preprocessing import StandardScaler\n",
    "from kats.tsfeatures.tsfeatures import TsFeatures\n",
    "\n",
    "import warnings\n",
    "warnings.simplefilter(action='ignore')"
   ]
  },
  {
   "cell_type": "code",
   "execution_count": null,
   "id": "e13dd85a",
   "metadata": {},
   "outputs": [],
   "source": [
    "sim = Simulator(n=90, freq=\"D\", start = \"2021-01-01\") # simulate 90 days of data\n",
    "random_seed = 100\n",
    "\n",
    "# generate 10 TimeSeriesData with arima_sim\n",
    "np.random.seed(random_seed) # setting numpy seed\n",
    "arima_sim_list = [sim.arima_sim(ar=[0.1, 0.05], ma = [0.04, 0.1], d = 1) for _ in range(10)]\n",
    "\n",
    "# generate 10 TimeSeriesData with trend shifts\n",
    "trend_sim_list = [\n",
    "    sim.trend_shift_sim(\n",
    "        cp_arr = [30, 60, 75],\n",
    "        trend_arr=[3, 15, 2, 8],\n",
    "        intercept=30,\n",
    "        noise=50,\n",
    "        seasonal_period=7,\n",
    "        seasonal_magnitude=np.random.uniform(10, 100),\n",
    "        random_seed=random_seed\n",
    "    ) for _ in range(10)\n",
    "]\n",
    "\n",
    "\n",
    "# generate 10 TimeSeriesData with level shifts\n",
    "level_shift_list = [\n",
    "    sim.level_shift_sim(\n",
    "        cp_arr = [30, 60, 75],\n",
    "        level_arr=[1.35, 1.05, 1.35, 1.2],\n",
    "        noise=0.05,\n",
    "        seasonal_period=7,\n",
    "        seasonal_magnitude=np.random.uniform(0.1, 1.0),\n",
    "        random_seed=random_seed\n",
    "    ) for _ in range(10)\n",
    "]\n",
    "\n",
    "ts_list = arima_sim_list + trend_sim_list + level_shift_list"
   ]
  },
  {
   "cell_type": "code",
   "execution_count": null,
   "id": "68d5fff7",
   "metadata": {},
   "outputs": [],
   "source": [
    "multi_ts_df = pd.read_csv(\"datasets/wit-10hz.csv\", sep='\\t')\n",
    "multi_ts_df.columns = [\"time\", \"acx\", \"acy\", \"acz\", \"gyx\", \"gyy\", \"gyz\", \"roll\", \"pitch\", \"yaw\"]\n",
    "multi_ts_df['timedf'] = pd.to_datetime(multi_ts_df['time'])\n",
    "multi_ts_df.info()\n",
    "multi_ts_df.drop('time', axis=1, inplace=True)\n",
    "multi_ts_df.columns = [\"acx\", \"acy\", \"acz\", \"gyx\", \"gyy\", \"gyz\", \"roll\", \"pitch\", \"yaw\", \"time\"]\n",
    "multi_ts_df.head()"
   ]
  },
  {
   "cell_type": "code",
   "execution_count": null,
   "id": "7f0624d4",
   "metadata": {},
   "outputs": [],
   "source": [
    "#ts = ts_list[0]\n",
    "ts = TimeSeriesData(multi_ts_df)\n",
    "#ts = multi_ts_df\n",
    "\n",
    "# plot the time series\n",
    "ts.plot(cols=['acx','acy','acz'])\n",
    "plt.xticks(rotation = 45)\n",
    "plt.show()"
   ]
  },
  {
   "cell_type": "code",
   "execution_count": null,
   "id": "b443ec37",
   "metadata": {},
   "outputs": [],
   "source": [
    "model = TsFeatures()\n",
    "\n",
    "# Step 2. use .transform() method, and apply on the target time series data\n",
    "output_features = model.transform(ts)\n",
    "output_features"
   ]
  },
  {
   "cell_type": "code",
   "execution_count": null,
   "id": "e36e59b3",
   "metadata": {},
   "outputs": [],
   "source": [
    "model = TsFeatures()\n",
    "output_features = [model.transform(ts) for ts in ts_list] # loop through time series data and perform transformation"
   ]
  },
  {
   "cell_type": "code",
   "execution_count": null,
   "id": "6601f0f3",
   "metadata": {},
   "outputs": [],
   "source": [
    "df_features = pd.DataFrame(output_features) # converting to dataframe\n",
    "df_features.head()"
   ]
  },
  {
   "cell_type": "code",
   "execution_count": null,
   "id": "c60a7cdf",
   "metadata": {},
   "outputs": [],
   "source": [
    "# finding the index of the time series sample with the highest seasonality strength\n",
    "index_target_ts = df_features['seasonality_strength'].argmax() \n",
    "\n",
    "target_ts = ts_list[index_target_ts] \n",
    "\n",
    "# Plot the time series\n",
    "target_ts.plot(cols=['value'])\n",
    "plt.xticks(rotation = 45)\n",
    "plt.show()"
   ]
  },
  {
   "cell_type": "code",
   "execution_count": null,
   "id": "b57d3cba",
   "metadata": {},
   "outputs": [],
   "source": [
    "stl = STL(target_ts.value.values, period=7)\n",
    "res = stl.fit()\n",
    "plt.plot(\n",
    "    pd.to_datetime(target_ts.time.values),\n",
    "    res.seasonal\n",
    ")\n",
    "plt.xticks(rotation = 90);\n",
    "plt.title(f'Seasonal component - variance: {np.round(np.var(res.seasonal), 2)}');"
   ]
  },
  {
   "cell_type": "code",
   "execution_count": null,
   "id": "9a775693",
   "metadata": {},
   "outputs": [],
   "source": [
    "# finding the index of the time series sample with the smallest seasonality strength\n",
    "index_target_ts = df_features['seasonality_strength'].argmin() \n",
    "target_ts = ts_list[index_target_ts].to_dataframe() \n",
    "\n",
    "# Do an STL decomposition and plot the results\n",
    "stl = STL(target_ts.value.values, period=7)\n",
    "res = stl.fit()\n",
    "plt.plot(\n",
    "    pd.to_datetime(target_ts.time.values),\n",
    "    res.seasonal\n",
    ")\n",
    "plt.xticks(rotation = 45);\n",
    "plt.title(f'Seasonal component - variance: {np.round(np.var(res.seasonal), 2)}');"
   ]
  },
  {
   "cell_type": "code",
   "execution_count": null,
   "id": "da37f77b",
   "metadata": {},
   "outputs": [],
   "source": [
    "# find the index of the time series sample with the highest entropy\n",
    "index_target_ts = df_features['entropy'].argmax() \n",
    "\n",
    "target_ts = ts_list[index_target_ts] \n",
    "\n",
    "# Plot the time series\n",
    "target_ts.plot(cols=['value'])\n",
    "plt.xticks(rotation = 45)\n",
    "plt.show()"
   ]
  },
  {
   "cell_type": "code",
   "execution_count": null,
   "id": "66ab257a",
   "metadata": {},
   "outputs": [],
   "source": [
    "# find the index of the time series sample with the lowest entropy\n",
    "index_target_ts = df_features['entropy'].argmin() \n",
    "target_ts = ts_list[index_target_ts]\n",
    "\n",
    "# Plot the time series\n",
    "target_ts.plot(cols=['value'])\n",
    "plt.xticks(rotation = 45)\n",
    "plt.show()"
   ]
  },
  {
   "cell_type": "code",
   "execution_count": null,
   "id": "27081ea5",
   "metadata": {},
   "outputs": [],
   "source": [
    "# performing dimension reduction on the time series samples\n",
    "ls_features = ['lumpiness', 'entropy', 'seasonality_strength', 'stability', 'level_shift_size']\n",
    "df_dataset = df_features[ls_features]\n",
    "x_2d = PCA(n_components=2).fit_transform(X=StandardScaler().fit_transform(df_dataset[ls_features].values))\n",
    "df_dataset['pca_component_1'] = x_2d[:,0]\n",
    "df_dataset['pca_component_2'] = x_2d[:,1]"
   ]
  },
  {
   "cell_type": "code",
   "execution_count": null,
   "id": "90f3a514",
   "metadata": {},
   "outputs": [],
   "source": [
    "# Plot the PCA projections of each time series\n",
    "plt.figure(figsize = (15,8))\n",
    "# Plot ARIMA time series in red\n",
    "ax = df_dataset.iloc[0:10].plot(x='pca_component_1', y='pca_component_2', kind='scatter', color='red')\n",
    "# Plot trend shift time series in green\n",
    "df_dataset.iloc[10:20].plot(x='pca_component_1', y='pca_component_2', kind='scatter', color='green', ax=ax)\n",
    "# Plot level shift time series in yellow\n",
    "df_dataset.iloc[20:].plot(x='pca_component_1', y='pca_component_2', kind='scatter', color='yellow', ax=ax)\n",
    "\n",
    "plt.title('Visualization of the dimension reduced time series samples')\n",
    "plt.legend(['ARIMA', 'Trend Shift', 'Level Shift'])\n",
    "plt.show()"
   ]
  },
  {
   "cell_type": "code",
   "execution_count": null,
   "id": "3071d469",
   "metadata": {},
   "outputs": [],
   "source": []
  }
 ],
 "metadata": {
  "interpreter": {
   "hash": "d4d1e4263499bec80672ea0156c357c1ee493ec2b1c70f0acce89fc37c4a6abe"
  },
  "kernelspec": {
   "display_name": "Python 3.9.7 ('base')",
   "language": "python",
   "name": "python3"
  },
  "language_info": {
   "codemirror_mode": {
    "name": "ipython",
    "version": 3
   },
   "file_extension": ".py",
   "mimetype": "text/x-python",
   "name": "python",
   "nbconvert_exporter": "python",
   "pygments_lexer": "ipython3",
   "version": "3.9.7"
  }
 },
 "nbformat": 4,
 "nbformat_minor": 5
}

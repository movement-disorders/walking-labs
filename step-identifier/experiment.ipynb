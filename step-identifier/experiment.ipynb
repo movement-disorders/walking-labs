{
 "cells": [
  {
   "cell_type": "markdown",
   "metadata": {},
   "source": [
    "# Step Identifier\n",
    "\n",
    "## Why\n",
    "Getting to know each step taken is key towards measuring its *quality and consequence* for a gait event during a walking session. As presented in [Fast.ai's Fastbook](https://nbviewer.org/github/fastai/fastbook/blob/master/01_intro.ipynb#Image-Recognizers-Can-Tackle-Non-Image-Tasks) literature, time series could be transformed into images that could be used to train a recognizer to identify and predict over, using capacity built for that domain.\n",
    "\n",
    "## Brainstorm\n",
    "\n",
    "* From a pre captured session, get an image based dataset where each sample represents a second of 3 axis waves stamped as an image. Something like the following.\n",
    "\n",
    "![Figure 1](./per-second.png)\n",
    "\n",
    "*  Group samples into categories (using techniques such as `from scipy.signal import find_peaks`) to get a big pictyure on how distribution works. Identifying  and differentiating steps per origin.\n",
    "\n",
    "* [defer-for-later] Match against tri-axial device gathered data, merging the corresponding dat segment, into a single row. This will add features to each sample.\n",
    "\n",
    "* To each origin (n, m or 1, 2), label it.\n",
    "\n",
    "* Train a prediction model. Measure it 80/20.\n",
    "\n",
    "* Compare models between simple (per second) and extended (half-second displaced `window`) datasets "
   ]
  },
  {
   "cell_type": "code",
   "execution_count": 1,
   "metadata": {},
   "outputs": [],
   "source": [
    "# importing libraries\n",
    "%matplotlib inline\n",
    "import io\n",
    "import numpy as np \n",
    "import pandas as pd\n",
    "import matplotlib.pyplot as plt\n",
    "import seaborn as sns\n",
    "from scipy import stats\n",
    "from scipy.signal import find_peaks\n",
    "import warnings\n",
    "warnings.filterwarnings('ignore')"
   ]
  },
  {
   "cell_type": "code",
   "execution_count": 2,
   "metadata": {},
   "outputs": [
    {
     "name": "stdout",
     "output_type": "stream",
     "text": [
      "<class 'pandas.core.frame.DataFrame'>\n",
      "RangeIndex: 64892 entries, 0 to 64891\n",
      "Data columns (total 5 columns):\n",
      " #   Column  Non-Null Count  Dtype         \n",
      "---  ------  --------------  -----         \n",
      " 0   time    64892 non-null  object        \n",
      " 1   acx     64892 non-null  float64       \n",
      " 2   acy     64892 non-null  float64       \n",
      " 3   acz     64892 non-null  float64       \n",
      " 4   timedf  64892 non-null  datetime64[ns]\n",
      "dtypes: datetime64[ns](1), float64(3), object(1)\n",
      "memory usage: 2.5+ MB\n"
     ]
    },
    {
     "data": {
      "text/html": [
       "<div>\n",
       "<style scoped>\n",
       "    .dataframe tbody tr th:only-of-type {\n",
       "        vertical-align: middle;\n",
       "    }\n",
       "\n",
       "    .dataframe tbody tr th {\n",
       "        vertical-align: top;\n",
       "    }\n",
       "\n",
       "    .dataframe thead th {\n",
       "        text-align: right;\n",
       "    }\n",
       "</style>\n",
       "<table border=\"1\" class=\"dataframe\">\n",
       "  <thead>\n",
       "    <tr style=\"text-align: right;\">\n",
       "      <th></th>\n",
       "      <th>acx</th>\n",
       "      <th>acy</th>\n",
       "      <th>acz</th>\n",
       "      <th>time</th>\n",
       "      <th>sac</th>\n",
       "    </tr>\n",
       "  </thead>\n",
       "  <tbody>\n",
       "    <tr>\n",
       "      <th>0</th>\n",
       "      <td>0.094727</td>\n",
       "      <td>0.076172</td>\n",
       "      <td>0.029297</td>\n",
       "      <td>2021-05-30 11:04:36.586</td>\n",
       "      <td>0.125034</td>\n",
       "    </tr>\n",
       "    <tr>\n",
       "      <th>1</th>\n",
       "      <td>0.114746</td>\n",
       "      <td>0.064453</td>\n",
       "      <td>0.098633</td>\n",
       "      <td>2021-05-30 11:04:36.670</td>\n",
       "      <td>0.164467</td>\n",
       "    </tr>\n",
       "    <tr>\n",
       "      <th>2</th>\n",
       "      <td>0.091309</td>\n",
       "      <td>0.042969</td>\n",
       "      <td>0.109863</td>\n",
       "      <td>2021-05-30 11:04:36.760</td>\n",
       "      <td>0.149176</td>\n",
       "    </tr>\n",
       "    <tr>\n",
       "      <th>3</th>\n",
       "      <td>0.091309</td>\n",
       "      <td>0.054688</td>\n",
       "      <td>0.110840</td>\n",
       "      <td>2021-05-30 11:04:36.879</td>\n",
       "      <td>0.153667</td>\n",
       "    </tr>\n",
       "    <tr>\n",
       "      <th>4</th>\n",
       "      <td>0.007812</td>\n",
       "      <td>0.028809</td>\n",
       "      <td>0.062012</td>\n",
       "      <td>2021-05-30 11:04:36.970</td>\n",
       "      <td>0.068822</td>\n",
       "    </tr>\n",
       "  </tbody>\n",
       "</table>\n",
       "</div>"
      ],
      "text/plain": [
       "        acx       acy       acz                    time       sac\n",
       "0  0.094727  0.076172  0.029297 2021-05-30 11:04:36.586  0.125034\n",
       "1  0.114746  0.064453  0.098633 2021-05-30 11:04:36.670  0.164467\n",
       "2  0.091309  0.042969  0.109863 2021-05-30 11:04:36.760  0.149176\n",
       "3  0.091309  0.054688  0.110840 2021-05-30 11:04:36.879  0.153667\n",
       "4  0.007812  0.028809  0.062012 2021-05-30 11:04:36.970  0.068822"
      ]
     },
     "execution_count": 2,
     "metadata": {},
     "output_type": "execute_result"
    }
   ],
   "source": [
    "df_raw = pd.read_csv(\"../datasets/wit-10hz.csv\", sep='\\t')\n",
    "df_raw.columns = [\"time\", \"acx\", \"acy\", \"acz\",\"gyx\", \"gyy\", \"gyz\", \"roll\", \"pitch\", \"yaw\"]\n",
    "df_raw.drop([\"gyx\", \"gyy\", \"gyz\", \"roll\", \"pitch\", \"yaw\"], axis=1, inplace=True)\n",
    "\n",
    "df_raw['timedf'] = pd.to_datetime(df_raw['time'])\n",
    "df_raw.info()\n",
    "df_raw.drop('time', axis=1, inplace=True)\n",
    "\n",
    "df_raw['sac'] = np.sqrt(np.power(df_raw['acx'], 2) + np.power(df_raw['acy'], 2) + np.power(df_raw['acz'], 2))\n",
    "\n",
    "df_raw.columns = [\"acx\", \"acy\", \"acz\", \"time\", \"sac\"]\n",
    "\n",
    "df_raw.head()"
   ]
  },
  {
   "cell_type": "markdown",
   "metadata": {},
   "source": [
    "(i.e.) taking a minute from the raw dataset"
   ]
  },
  {
   "cell_type": "code",
   "execution_count": 3,
   "metadata": {},
   "outputs": [
    {
     "data": {
      "text/html": [
       "<div>\n",
       "<style scoped>\n",
       "    .dataframe tbody tr th:only-of-type {\n",
       "        vertical-align: middle;\n",
       "    }\n",
       "\n",
       "    .dataframe tbody tr th {\n",
       "        vertical-align: top;\n",
       "    }\n",
       "\n",
       "    .dataframe thead th {\n",
       "        text-align: right;\n",
       "    }\n",
       "</style>\n",
       "<table border=\"1\" class=\"dataframe\">\n",
       "  <thead>\n",
       "    <tr style=\"text-align: right;\">\n",
       "      <th></th>\n",
       "      <th>acx</th>\n",
       "      <th>acy</th>\n",
       "      <th>acz</th>\n",
       "      <th>time</th>\n",
       "      <th>sac</th>\n",
       "    </tr>\n",
       "  </thead>\n",
       "  <tbody>\n",
       "    <tr>\n",
       "      <th>823</th>\n",
       "      <td>0.108398</td>\n",
       "      <td>0.085938</td>\n",
       "      <td>0.001465</td>\n",
       "      <td>2021-05-30 11:06:00.070</td>\n",
       "      <td>0.138339</td>\n",
       "    </tr>\n",
       "    <tr>\n",
       "      <th>824</th>\n",
       "      <td>0.035156</td>\n",
       "      <td>0.097168</td>\n",
       "      <td>0.047363</td>\n",
       "      <td>2021-05-30 11:06:00.190</td>\n",
       "      <td>0.113670</td>\n",
       "    </tr>\n",
       "    <tr>\n",
       "      <th>825</th>\n",
       "      <td>0.067871</td>\n",
       "      <td>0.052734</td>\n",
       "      <td>0.068848</td>\n",
       "      <td>2021-05-30 11:06:00.280</td>\n",
       "      <td>0.110124</td>\n",
       "    </tr>\n",
       "    <tr>\n",
       "      <th>826</th>\n",
       "      <td>0.099121</td>\n",
       "      <td>0.043457</td>\n",
       "      <td>0.072754</td>\n",
       "      <td>2021-05-30 11:06:00.370</td>\n",
       "      <td>0.130409</td>\n",
       "    </tr>\n",
       "    <tr>\n",
       "      <th>827</th>\n",
       "      <td>0.018555</td>\n",
       "      <td>0.064941</td>\n",
       "      <td>0.012695</td>\n",
       "      <td>2021-05-30 11:06:00.461</td>\n",
       "      <td>0.068723</td>\n",
       "    </tr>\n",
       "    <tr>\n",
       "      <th>...</th>\n",
       "      <td>...</td>\n",
       "      <td>...</td>\n",
       "      <td>...</td>\n",
       "      <td>...</td>\n",
       "      <td>...</td>\n",
       "    </tr>\n",
       "    <tr>\n",
       "      <th>3177</th>\n",
       "      <td>0.009766</td>\n",
       "      <td>0.108398</td>\n",
       "      <td>0.050781</td>\n",
       "      <td>2021-05-30 11:09:59.536</td>\n",
       "      <td>0.120101</td>\n",
       "    </tr>\n",
       "    <tr>\n",
       "      <th>3178</th>\n",
       "      <td>0.100098</td>\n",
       "      <td>0.090820</td>\n",
       "      <td>0.019531</td>\n",
       "      <td>2021-05-30 11:09:59.626</td>\n",
       "      <td>0.136563</td>\n",
       "    </tr>\n",
       "    <tr>\n",
       "      <th>3179</th>\n",
       "      <td>0.019043</td>\n",
       "      <td>0.086914</td>\n",
       "      <td>0.042480</td>\n",
       "      <td>2021-05-30 11:09:59.716</td>\n",
       "      <td>0.098597</td>\n",
       "    </tr>\n",
       "    <tr>\n",
       "      <th>3180</th>\n",
       "      <td>0.119141</td>\n",
       "      <td>0.000000</td>\n",
       "      <td>0.037598</td>\n",
       "      <td>2021-05-30 11:09:59.806</td>\n",
       "      <td>0.124932</td>\n",
       "    </tr>\n",
       "    <tr>\n",
       "      <th>3181</th>\n",
       "      <td>0.046387</td>\n",
       "      <td>0.121094</td>\n",
       "      <td>0.041992</td>\n",
       "      <td>2021-05-30 11:09:59.927</td>\n",
       "      <td>0.136304</td>\n",
       "    </tr>\n",
       "  </tbody>\n",
       "</table>\n",
       "<p>2359 rows × 5 columns</p>\n",
       "</div>"
      ],
      "text/plain": [
       "           acx       acy       acz                    time       sac\n",
       "823   0.108398  0.085938  0.001465 2021-05-30 11:06:00.070  0.138339\n",
       "824   0.035156  0.097168  0.047363 2021-05-30 11:06:00.190  0.113670\n",
       "825   0.067871  0.052734  0.068848 2021-05-30 11:06:00.280  0.110124\n",
       "826   0.099121  0.043457  0.072754 2021-05-30 11:06:00.370  0.130409\n",
       "827   0.018555  0.064941  0.012695 2021-05-30 11:06:00.461  0.068723\n",
       "...        ...       ...       ...                     ...       ...\n",
       "3177  0.009766  0.108398  0.050781 2021-05-30 11:09:59.536  0.120101\n",
       "3178  0.100098  0.090820  0.019531 2021-05-30 11:09:59.626  0.136563\n",
       "3179  0.019043  0.086914  0.042480 2021-05-30 11:09:59.716  0.098597\n",
       "3180  0.119141  0.000000  0.037598 2021-05-30 11:09:59.806  0.124932\n",
       "3181  0.046387  0.121094  0.041992 2021-05-30 11:09:59.927  0.136304\n",
       "\n",
       "[2359 rows x 5 columns]"
      ]
     },
     "execution_count": 3,
     "metadata": {},
     "output_type": "execute_result"
    }
   ],
   "source": [
    "df_raw_micro = df_raw[(df_raw['time'] > '2021-05-30 11:06') & (df_raw['time'] < '2021-05-30 11:10')]\n",
    "df_raw_micro.count()\n",
    "df_raw_micro"
   ]
  },
  {
   "cell_type": "code",
   "execution_count": 4,
   "metadata": {},
   "outputs": [],
   "source": [
    "df_raw_micro['second'] = pd.to_datetime(df_raw_micro['time'], format='%H:%M').dt.second\n",
    "\n",
    "# Normalizing 3-to-1\n",
    "df_raw_micro['sac'] = np.sqrt(np.power(df_raw_micro['acx'], 2) + np.power(df_raw_micro['acy'], 2) + np.power(df_raw_micro['acz'], 2))\n",
    "\n",
    "# for i in range(0,60):\n",
    "#     current_second = df_raw_micro[(df_raw_micro['second'] == i)]\n",
    "#     plt.figure(figsize=(10,3))\n",
    "#     # sns.lineplot(y = 'acx', x = 'time', data = current_second)\n",
    "#     # sns.lineplot(y = 'acy', x = 'time', data = current_second)\n",
    "#     # sns.lineplot(y = 'acz', x = 'time', data = current_second)\n",
    "#     sns.lineplot(y = 'sac', x = 'time', data = current_second)\n",
    "#     # plt.legend(['x-axis', 'y-axis', 'z-axis'])\n",
    "#     # plt.ylabel(i)\n",
    "#     # plt.title(i, fontsize = 15)\n",
    "#     plt.show()"
   ]
  },
  {
   "cell_type": "markdown",
   "metadata": {},
   "source": [
    "## Experimenting 'windowing'\n",
    "\n",
    "> No working nor conclusive work yet."
   ]
  },
  {
   "cell_type": "code",
   "execution_count": 5,
   "metadata": {},
   "outputs": [],
   "source": [
    "# y_rolling_avg = df_result['sac'].rolling(window=5).mean()\n",
    "# #plt.plot(x, y)\n",
    "# #plt.figure(10,5)\n",
    "# #plt.plot(x, y_rolling_avg, color='red')\n",
    "# sns.lineplot(y = 'sac', x = 'sac', data = y_rolling_avg)\n",
    "# plt.show()"
   ]
  },
  {
   "cell_type": "code",
   "execution_count": 6,
   "metadata": {},
   "outputs": [],
   "source": [
    "# TODO: optimize this block.\n",
    "empt_array = np.array([0,0,0])\n",
    "# print(empt_array)\n",
    "for i in range(0,len(df_raw), 5):\n",
    "    #empt_array = np.append(empt_array, [df_raw.iloc[i:i+4, 1].mean()], axis=0)\n",
    "    to_add = np.array(\n",
    "        [df_raw.iloc[i:i+4,4].mean(),\n",
    "         df_raw.iloc[i:i+4,3].min(),\n",
    "         df_raw.iloc[i:i+4,3].max()])\n",
    "    empt_array = np.vstack((empt_array, to_add))\n",
    "empt_array = np.delete(empt_array, 0, axis=0)"
   ]
  },
  {
   "cell_type": "code",
   "execution_count": 7,
   "metadata": {},
   "outputs": [
    {
     "name": "stdout",
     "output_type": "stream",
     "text": [
      "<class 'pandas.core.frame.DataFrame'>\n",
      "RangeIndex: 12979 entries, 0 to 12978\n",
      "Data columns (total 2 columns):\n",
      " #   Column      Non-Null Count  Dtype  \n",
      "---  ------      --------------  -----  \n",
      " 0   sac         12979 non-null  float64\n",
      " 1   time_delta  12979 non-null  float64\n",
      "dtypes: float64(2)\n",
      "memory usage: 202.9 KB\n"
     ]
    }
   ],
   "source": [
    "df_raw_micro = pd.DataFrame(empt_array, columns=[\"sac\", \"first_event\", \"last_event\"])\n",
    "df_raw_micro['time_delta'] = (df_raw_micro['first_event'] - df_raw_micro['first_event'].min())  / np.timedelta64(1,'D')\n",
    "df_raw_micro['sac'] = df_raw_micro['sac'].astype(float, errors = 'raise')\n",
    "df_raw_micro.drop([ \"first_event\", \"last_event\"], axis=1, inplace=True)\n",
    "df_raw_micro.info()"
   ]
  },
  {
   "cell_type": "markdown",
   "metadata": {},
   "source": [
    "### 1. Clustering using Tslearn"
   ]
  },
  {
   "cell_type": "code",
   "execution_count": 8,
   "metadata": {},
   "outputs": [
    {
     "data": {
      "image/png": "[encoded data removed]",
      "text/plain": [
       "<Figure size 432x288 with 3 Axes>"
      ]
     },
     "metadata": {
      "needs_background": "light"
     },
     "output_type": "display_data"
    }
   ],
   "source": [
    "from tslearn.clustering import TimeSeriesKMeans\n",
    "\n",
    "\n",
    "X_train = df_raw_micro.iloc[:, ::-1].to_numpy()\n",
    "\n",
    "km = TimeSeriesKMeans(n_clusters=3, metric=\"dtw\", max_iter=50)\n",
    "labels = km.fit_predict(X_train)\n",
    "\n",
    "sz = X_train.shape[1]\n",
    "\n",
    "plt.figure()\n",
    "for yi in range(3):\n",
    "    plt.subplot(3, 3, 7 + yi)\n",
    "    for xx in X_train[labels == yi]:\n",
    "        plt.plot(xx.ravel(), \"k-\", alpha=.2)\n",
    "    plt.plot(km.cluster_centers_[yi].ravel(), \"r-\")\n",
    "    plt.xlim(0, sz)\n",
    "    plt.ylim(0, 0.19)\n",
    "    plt.text(0.55, 0.85,'Cluster %d' % (yi + 1),\n",
    "             transform=plt.gca().transAxes)\n",
    "    if yi == 1:\n",
    "        plt.title(\"DTW $k$-means\")\n",
    "\n",
    "plt.tight_layout()\n",
    "plt.show()"
   ]
  },
  {
   "cell_type": "code",
   "execution_count": 9,
   "metadata": {},
   "outputs": [
    {
     "data": {
      "image/png": "[encoded data removed]",
      "text/plain": [
       "<Figure size 720x360 with 1 Axes>"
      ]
     },
     "metadata": {},
     "output_type": "display_data"
    }
   ],
   "source": [
    "result = np.concatenate((X_train, labels[:,None]),axis=1)\n",
    "\n",
    "df_result = pd.DataFrame(result)\n",
    "df_result.columns = ['delta','sac','label']\n",
    "sns.set_style(\"whitegrid\")\n",
    "plt.figure(figsize = (10, 5))\n",
    "sns.countplot(x = 'label', data = df_result)\n",
    "plt.title('Number of samples by activity')\n",
    "plt.show()"
   ]
  },
  {
   "cell_type": "markdown",
   "metadata": {},
   "source": [
    "### Get images per window and stack against what we have up to this point"
   ]
  },
  {
   "cell_type": "code",
   "execution_count": 10,
   "metadata": {},
   "outputs": [],
   "source": [
    "# for i in range(0,60):\n",
    "#     current_second = df_raw_micro[(df_raw_micro['second'] == i)]\n",
    "#     plt.figure(figsize=(10,3))\n",
    "#     # sns.lineplot(y = 'acx', x = 'time', data = current_second)\n",
    "#     # sns.lineplot(y = 'acy', x = 'time', data = current_second)\n",
    "#     # sns.lineplot(y = 'acz', x = 'time', data = current_second)\n",
    "#     sns.lineplot(y = 'sac', x = 'time', data = current_second)\n",
    "#     # plt.legend(['x-axis', 'y-axis', 'z-axis'])\n",
    "#     # plt.ylabel(i)\n",
    "#     # plt.title(i, fontsize = 15)\n",
    "#     plt.show()"
   ]
  }
 ],
 "metadata": {
  "interpreter": {
   "hash": "d4d1e4263499bec80672ea0156c357c1ee493ec2b1c70f0acce89fc37c4a6abe"
  },
  "kernelspec": {
   "display_name": "Python 3.9.7 ('base')",
   "language": "python",
   "name": "python3"
  },
  "language_info": {
   "codemirror_mode": {
    "name": "ipython",
    "version": 3
   },
   "file_extension": ".py",
   "mimetype": "text/x-python",
   "name": "python",
   "nbconvert_exporter": "python",
   "pygments_lexer": "ipython3",
   "version": "3.9.7"
  },
  "orig_nbformat": 4
 },
 "nbformat": 4,
 "nbformat_minor": 2
}
